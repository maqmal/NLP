{
  "nbformat": 4,
  "nbformat_minor": 0,
  "metadata": {
    "colab": {
      "name": "Tubes 1 NLP.ipynb",
      "provenance": [],
      "collapsed_sections": []
    },
    "kernelspec": {
      "name": "python3",
      "display_name": "Python 3"
    },
    "language_info": {
      "name": "python"
    }
  },
  "cells": [
    {
      "cell_type": "code",
      "source": [
        "from keras.preprocessing.text import Tokenizer\n",
        "import nltk\n",
        "from nltk.tokenize import word_tokenize\n",
        "import numpy as np\n",
        "import re\n",
        "from tensorflow.keras.utils import to_categorical\n",
        "\n",
        "data = open('/content/thotb.txt', \"r\")\n",
        "\n",
        "nltk.download('punkt')\n",
        "cleaned = re.sub(r'\\W+', ' ', data.read()).lower()\n",
        "tokens = word_tokenize(cleaned)\n",
        "train_len = 4\n",
        "text_sequences = []\n",
        "for i in range(train_len,len(tokens)):\n",
        "  seq = tokens[i-train_len:i]\n",
        "  text_sequences.append(seq)\n",
        "sequences = {}\n",
        "count = 1\n",
        "for i in range(len(tokens)):\n",
        "  if tokens[i] not in sequences:\n",
        "    sequences[tokens[i]] = count\n",
        "    count += 1\n",
        "tokenizer = Tokenizer()\n",
        "tokenizer.fit_on_texts(text_sequences)\n",
        "sequences = tokenizer.texts_to_sequences(text_sequences)\n",
        "#vocabulary size increased by 1 for the cause of padding\n",
        "vocabulary_size = len(tokenizer.word_counts)+1\n",
        "n_sequences = np.empty([len(sequences),train_len], dtype='int32')\n",
        "for i in range(len(sequences)):\n",
        "  n_sequences[i] = sequences[i]\n",
        "train_inputs = n_sequences[:,:-1]\n",
        "train_targets = n_sequences[:,-1]\n",
        "train_targets = to_categorical(train_targets, num_classes=vocabulary_size)\n",
        "seq_len = train_inputs.shape[1]"
      ],
      "metadata": {
        "colab": {
          "base_uri": "https://localhost:8080/"
        },
        "id": "t-Tz3g0XMc1m",
        "outputId": "e98c3772-1ff8-4977-eab8-29314be9bbc7"
      },
      "execution_count": null,
      "outputs": [
        {
          "output_type": "stream",
          "name": "stdout",
          "text": [
            "[nltk_data] Downloading package punkt to /root/nltk_data...\n",
            "[nltk_data]   Unzipping tokenizers/punkt.zip.\n"
          ]
        }
      ]
    },
    {
      "cell_type": "code",
      "source": [
        "from keras.models import Sequential\n",
        "from keras.layers import Dense\n",
        "from keras.layers import SimpleRNN\n",
        "from keras.layers import Embedding\n",
        "model = Sequential()\n",
        "model.add(Embedding(vocabulary_size, seq_len, input_length=seq_len))\n",
        "model.add(SimpleRNN(50,return_sequences=True))\n",
        "model.add(SimpleRNN(50))\n",
        "model.add(Dense(50,activation='relu'))\n",
        "model.add(Dense(vocabulary_size, activation='softmax'))\n",
        "model.summary()"
      ],
      "metadata": {
        "colab": {
          "base_uri": "https://localhost:8080/"
        },
        "id": "cSx63oEwPyxI",
        "outputId": "ea0774e6-af14-4331-e532-ebe8d99b8577"
      },
      "execution_count": null,
      "outputs": [
        {
          "output_type": "stream",
          "name": "stdout",
          "text": [
            "Model: \"sequential\"\n",
            "_________________________________________________________________\n",
            " Layer (type)                Output Shape              Param #   \n",
            "=================================================================\n",
            " embedding (Embedding)       (None, 3, 3)              16695     \n",
            "                                                                 \n",
            " simple_rnn (SimpleRNN)      (None, 3, 50)             2700      \n",
            "                                                                 \n",
            " simple_rnn_1 (SimpleRNN)    (None, 50)                5050      \n",
            "                                                                 \n",
            " dense (Dense)               (None, 50)                2550      \n",
            "                                                                 \n",
            " dense_1 (Dense)             (None, 5565)              283815    \n",
            "                                                                 \n",
            "=================================================================\n",
            "Total params: 310,810\n",
            "Trainable params: 310,810\n",
            "Non-trainable params: 0\n",
            "_________________________________________________________________\n"
          ]
        }
      ]
    },
    {
      "cell_type": "code",
      "source": [
        "# compiling the network\n",
        "model.compile(loss='categorical_crossentropy', optimizer='adam')\n",
        "model.fit(train_inputs,train_targets,epochs=20,verbose=1)"
      ],
      "metadata": {
        "colab": {
          "base_uri": "https://localhost:8080/"
        },
        "id": "_gJxdZYYcbSk",
        "outputId": "b0c19133-22ff-486a-87b1-295f5b3bdcef"
      },
      "execution_count": null,
      "outputs": [
        {
          "output_type": "stream",
          "name": "stdout",
          "text": [
            "Epoch 1/20\n",
            "1875/1875 [==============================] - 21s 10ms/step - loss: 6.3453\n",
            "Epoch 2/20\n",
            "1875/1875 [==============================] - 19s 10ms/step - loss: 5.8138\n",
            "Epoch 3/20\n",
            "1875/1875 [==============================] - 19s 10ms/step - loss: 5.5242\n",
            "Epoch 4/20\n",
            "1875/1875 [==============================] - 18s 10ms/step - loss: 5.3350\n",
            "Epoch 5/20\n",
            "1875/1875 [==============================] - 18s 10ms/step - loss: 5.1807\n",
            "Epoch 6/20\n",
            "1875/1875 [==============================] - 19s 10ms/step - loss: 5.0433\n",
            "Epoch 7/20\n",
            "1875/1875 [==============================] - 19s 10ms/step - loss: 4.9200\n",
            "Epoch 8/20\n",
            "1875/1875 [==============================] - 19s 10ms/step - loss: 4.8148\n",
            "Epoch 9/20\n",
            "1875/1875 [==============================] - 19s 10ms/step - loss: 4.7219\n",
            "Epoch 10/20\n",
            "1875/1875 [==============================] - 19s 10ms/step - loss: 4.6370\n",
            "Epoch 11/20\n",
            "1875/1875 [==============================] - 18s 10ms/step - loss: 4.5603\n",
            "Epoch 12/20\n",
            "1875/1875 [==============================] - 19s 10ms/step - loss: 4.4888\n",
            "Epoch 13/20\n",
            "1875/1875 [==============================] - 18s 10ms/step - loss: 4.4237\n",
            "Epoch 14/20\n",
            "1875/1875 [==============================] - 18s 10ms/step - loss: 4.3629\n",
            "Epoch 15/20\n",
            "1875/1875 [==============================] - 19s 10ms/step - loss: 4.3082\n",
            "Epoch 16/20\n",
            "1875/1875 [==============================] - 19s 10ms/step - loss: 4.2601\n",
            "Epoch 17/20\n",
            "1875/1875 [==============================] - 19s 10ms/step - loss: 4.2163\n",
            "Epoch 18/20\n",
            "1875/1875 [==============================] - 19s 10ms/step - loss: 4.1743\n",
            "Epoch 19/20\n",
            "1875/1875 [==============================] - 19s 10ms/step - loss: 4.1365\n",
            "Epoch 20/20\n",
            "1875/1875 [==============================] - 19s 10ms/step - loss: 4.1058\n"
          ]
        },
        {
          "output_type": "execute_result",
          "data": {
            "text/plain": [
              "<keras.callbacks.History at 0x7f1e4fbc1b10>"
            ]
          },
          "metadata": {},
          "execution_count": 3
        }
      ]
    },
    {
      "cell_type": "code",
      "source": [
        "from keras.preprocessing.sequence import pad_sequences\n",
        "arr = ['i want to', 'can you', 'upon the', 'the victim', 'as far']\n",
        "for teks in arr:\n",
        "  input_text = teks.strip()\n",
        "  print(\"Input text = \",input_text)\n",
        "  encoded_text = tokenizer.texts_to_sequences([input_text])[0]\n",
        "  pad_encoded = pad_sequences([encoded_text], maxlen=seq_len, truncating='pre')\n",
        "  for j in (model.predict(pad_encoded)[0]).argsort()[-3:][::-1]:\n",
        "    pred_word = tokenizer.index_word[j]\n",
        "    print(\"Next word suggestion:\",pred_word)\n",
        "  print(\"=================================================\")"
      ],
      "metadata": {
        "colab": {
          "base_uri": "https://localhost:8080/"
        },
        "id": "rfUKMu5oRb9C",
        "outputId": "1ec5a055-6fd0-498c-907f-463258b3a12b"
      },
      "execution_count": null,
      "outputs": [
        {
          "output_type": "stream",
          "name": "stdout",
          "text": [
            "Input text =  i want to\n",
            "Next word suggestion: be\n",
            "Next word suggestion: me\n",
            "Next word suggestion: the\n",
            "=================================================\n",
            "Input text =  can you\n",
            "Next word suggestion: have\n",
            "Next word suggestion: know\n",
            "Next word suggestion: be\n",
            "=================================================\n",
            "Input text =  upon the\n",
            "Next word suggestion: moor\n",
            "Next word suggestion: right\n",
            "Next word suggestion: contrary\n",
            "=================================================\n",
            "Input text =  the victim\n",
            "Next word suggestion: of\n",
            "Next word suggestion: to\n",
            "Next word suggestion: and\n",
            "=================================================\n",
            "Input text =  as far\n",
            "Next word suggestion: to\n",
            "Next word suggestion: in\n",
            "Next word suggestion: as\n",
            "=================================================\n"
          ]
        }
      ]
    },
    {
      "cell_type": "code",
      "source": [
        "input_text = 'the most serious problem'.strip()\n",
        "for i in range (9):\n",
        "  print(\"Input text = \",input_text)\n",
        "  encoded_text = tokenizer.texts_to_sequences([input_text])[0]\n",
        "  pad_encoded = pad_sequences([encoded_text], maxlen=seq_len, truncating='pre')\n",
        "  for j in (model.predict(pad_encoded)[0]).argsort()[-3:][::-1]:\n",
        "    print(\"Next word suggestion:\",tokenizer.index_word[j])\n",
        "  pred_word = tokenizer.index_word[(model.predict(pad_encoded)[0]).argsort()[-3:][::-1][0]]\n",
        "  print(\"=================================================\")\n",
        "  input_text = input_text+' '+pred_word"
      ],
      "metadata": {
        "colab": {
          "base_uri": "https://localhost:8080/"
        },
        "id": "V607I4aNbPCj",
        "outputId": "ec664ffe-a70c-44ba-8276-96b632ebd8bc"
      },
      "execution_count": null,
      "outputs": [
        {
          "output_type": "stream",
          "name": "stdout",
          "text": [
            "Input text =  the most serious problem\n",
            "Next word suggestion: and\n",
            "Next word suggestion: in\n",
            "Next word suggestion: i\n",
            "=================================================\n",
            "Input text =  the most serious problem and\n",
            "Next word suggestion: i\n",
            "Next word suggestion: the\n",
            "Next word suggestion: he\n",
            "=================================================\n",
            "Input text =  the most serious problem and i\n",
            "Next word suggestion: have\n",
            "Next word suggestion: had\n",
            "Next word suggestion: could\n",
            "=================================================\n",
            "Input text =  the most serious problem and i have\n",
            "Next word suggestion: been\n",
            "Next word suggestion: not\n",
            "Next word suggestion: seen\n",
            "=================================================\n",
            "Input text =  the most serious problem and i have been\n",
            "Next word suggestion: a\n",
            "Next word suggestion: able\n",
            "Next word suggestion: so\n",
            "=================================================\n",
            "Input text =  the most serious problem and i have been a\n",
            "Next word suggestion: fixture\n",
            "Next word suggestion: man\n",
            "Next word suggestion: school\n",
            "=================================================\n",
            "Input text =  the most serious problem and i have been a fixture\n",
            "Next word suggestion: he\n",
            "Next word suggestion: that\n",
            "Next word suggestion: i\n",
            "=================================================\n",
            "Input text =  the most serious problem and i have been a fixture he\n",
            "Next word suggestion: had\n",
            "Next word suggestion: was\n",
            "Next word suggestion: is\n",
            "=================================================\n",
            "Input text =  the most serious problem and i have been a fixture he had\n",
            "Next word suggestion: been\n",
            "Next word suggestion: not\n",
            "Next word suggestion: done\n",
            "=================================================\n"
          ]
        }
      ]
    },
    {
      "cell_type": "code",
      "source": [
        ""
      ],
      "metadata": {
        "id": "jqSdbUfIjeil"
      },
      "execution_count": null,
      "outputs": []
    }
  ]
}