{
  "nbformat": 4,
  "nbformat_minor": 0,
  "metadata": {
    "colab": {
      "name": "Tubes 2 NLP",
      "provenance": []
    },
    "kernelspec": {
      "name": "python3",
      "display_name": "Python 3"
    },
    "language_info": {
      "name": "python"
    }
  },
  "cells": [
    {
      "cell_type": "markdown",
      "source": [
        "# Text Classification\n",
        "Oleh:\n",
        "* Muhammad Aqmal Pangestu - 1301180518\n",
        "* Rizkyta Shainy Angeline - 1301184305\n",
        "\n",
        "Pada notebook ini akan dilakukan klasifikasi emosi berdasarkan kalimat pada teks. Klasifikasi dilakukan menggunakan library Tensorflow dengan model LSTM.\n",
        "\n",
        "Dataset yang digunakan: https://www.kaggle.com/ishantjuyal/emotions-in-text\n"
      ],
      "metadata": {
        "id": "EvyB80GWEk5d"
      }
    },
    {
      "cell_type": "markdown",
      "source": [
        "### Import Library"
      ],
      "metadata": {
        "id": "GsCdd5KLEaLv"
      }
    },
    {
      "cell_type": "code",
      "metadata": {
        "id": "ANw9OhuyszQm"
      },
      "source": [
        "import re\n",
        "import numpy as np\n",
        "import pandas as pd\n",
        "from tqdm import tqdm\n",
        "import tensorflow as tf\n",
        "import matplotlib.pyplot as plt\n",
        "from sklearn.model_selection import train_test_split\n",
        "from tensorflow.keras.preprocessing.text import Tokenizer\n",
        "from tensorflow.keras.preprocessing.sequence import pad_sequences"
      ],
      "execution_count": 25,
      "outputs": []
    },
    {
      "cell_type": "markdown",
      "source": [
        "### Load & Explore Dataset"
      ],
      "metadata": {
        "id": "gTtDKvILEg5O"
      }
    },
    {
      "cell_type": "code",
      "metadata": {
        "id": "lWhzoHIytQDX",
        "colab": {
          "base_uri": "https://localhost:8080/",
          "height": 206
        },
        "outputId": "44aef6f9-9866-4e7d-ada3-df8ad46a3fac"
      },
      "source": [
        "df = pd.read_csv('/content/Emotion_final.csv')\n",
        "df.head()"
      ],
      "execution_count": 6,
      "outputs": [
        {
          "output_type": "execute_result",
          "data": {
            "text/html": [
              "\n",
              "  <div id=\"df-fa3e46f1-71f7-41a9-bf9e-a80c628f29d4\">\n",
              "    <div class=\"colab-df-container\">\n",
              "      <div>\n",
              "<style scoped>\n",
              "    .dataframe tbody tr th:only-of-type {\n",
              "        vertical-align: middle;\n",
              "    }\n",
              "\n",
              "    .dataframe tbody tr th {\n",
              "        vertical-align: top;\n",
              "    }\n",
              "\n",
              "    .dataframe thead th {\n",
              "        text-align: right;\n",
              "    }\n",
              "</style>\n",
              "<table border=\"1\" class=\"dataframe\">\n",
              "  <thead>\n",
              "    <tr style=\"text-align: right;\">\n",
              "      <th></th>\n",
              "      <th>Text</th>\n",
              "      <th>Emotion</th>\n",
              "    </tr>\n",
              "  </thead>\n",
              "  <tbody>\n",
              "    <tr>\n",
              "      <th>0</th>\n",
              "      <td>i didnt feel humiliated</td>\n",
              "      <td>sadness</td>\n",
              "    </tr>\n",
              "    <tr>\n",
              "      <th>1</th>\n",
              "      <td>i can go from feeling so hopeless to so damned...</td>\n",
              "      <td>sadness</td>\n",
              "    </tr>\n",
              "    <tr>\n",
              "      <th>2</th>\n",
              "      <td>im grabbing a minute to post i feel greedy wrong</td>\n",
              "      <td>anger</td>\n",
              "    </tr>\n",
              "    <tr>\n",
              "      <th>3</th>\n",
              "      <td>i am ever feeling nostalgic about the fireplac...</td>\n",
              "      <td>love</td>\n",
              "    </tr>\n",
              "    <tr>\n",
              "      <th>4</th>\n",
              "      <td>i am feeling grouchy</td>\n",
              "      <td>anger</td>\n",
              "    </tr>\n",
              "  </tbody>\n",
              "</table>\n",
              "</div>\n",
              "      <button class=\"colab-df-convert\" onclick=\"convertToInteractive('df-fa3e46f1-71f7-41a9-bf9e-a80c628f29d4')\"\n",
              "              title=\"Convert this dataframe to an interactive table.\"\n",
              "              style=\"display:none;\">\n",
              "        \n",
              "  <svg xmlns=\"http://www.w3.org/2000/svg\" height=\"24px\"viewBox=\"0 0 24 24\"\n",
              "       width=\"24px\">\n",
              "    <path d=\"M0 0h24v24H0V0z\" fill=\"none\"/>\n",
              "    <path d=\"M18.56 5.44l.94 2.06.94-2.06 2.06-.94-2.06-.94-.94-2.06-.94 2.06-2.06.94zm-11 1L8.5 8.5l.94-2.06 2.06-.94-2.06-.94L8.5 2.5l-.94 2.06-2.06.94zm10 10l.94 2.06.94-2.06 2.06-.94-2.06-.94-.94-2.06-.94 2.06-2.06.94z\"/><path d=\"M17.41 7.96l-1.37-1.37c-.4-.4-.92-.59-1.43-.59-.52 0-1.04.2-1.43.59L10.3 9.45l-7.72 7.72c-.78.78-.78 2.05 0 2.83L4 21.41c.39.39.9.59 1.41.59.51 0 1.02-.2 1.41-.59l7.78-7.78 2.81-2.81c.8-.78.8-2.07 0-2.86zM5.41 20L4 18.59l7.72-7.72 1.47 1.35L5.41 20z\"/>\n",
              "  </svg>\n",
              "      </button>\n",
              "      \n",
              "  <style>\n",
              "    .colab-df-container {\n",
              "      display:flex;\n",
              "      flex-wrap:wrap;\n",
              "      gap: 12px;\n",
              "    }\n",
              "\n",
              "    .colab-df-convert {\n",
              "      background-color: #E8F0FE;\n",
              "      border: none;\n",
              "      border-radius: 50%;\n",
              "      cursor: pointer;\n",
              "      display: none;\n",
              "      fill: #1967D2;\n",
              "      height: 32px;\n",
              "      padding: 0 0 0 0;\n",
              "      width: 32px;\n",
              "    }\n",
              "\n",
              "    .colab-df-convert:hover {\n",
              "      background-color: #E2EBFA;\n",
              "      box-shadow: 0px 1px 2px rgba(60, 64, 67, 0.3), 0px 1px 3px 1px rgba(60, 64, 67, 0.15);\n",
              "      fill: #174EA6;\n",
              "    }\n",
              "\n",
              "    [theme=dark] .colab-df-convert {\n",
              "      background-color: #3B4455;\n",
              "      fill: #D2E3FC;\n",
              "    }\n",
              "\n",
              "    [theme=dark] .colab-df-convert:hover {\n",
              "      background-color: #434B5C;\n",
              "      box-shadow: 0px 1px 3px 1px rgba(0, 0, 0, 0.15);\n",
              "      filter: drop-shadow(0px 1px 2px rgba(0, 0, 0, 0.3));\n",
              "      fill: #FFFFFF;\n",
              "    }\n",
              "  </style>\n",
              "\n",
              "      <script>\n",
              "        const buttonEl =\n",
              "          document.querySelector('#df-fa3e46f1-71f7-41a9-bf9e-a80c628f29d4 button.colab-df-convert');\n",
              "        buttonEl.style.display =\n",
              "          google.colab.kernel.accessAllowed ? 'block' : 'none';\n",
              "\n",
              "        async function convertToInteractive(key) {\n",
              "          const element = document.querySelector('#df-fa3e46f1-71f7-41a9-bf9e-a80c628f29d4');\n",
              "          const dataTable =\n",
              "            await google.colab.kernel.invokeFunction('convertToInteractive',\n",
              "                                                     [key], {});\n",
              "          if (!dataTable) return;\n",
              "\n",
              "          const docLinkHtml = 'Like what you see? Visit the ' +\n",
              "            '<a target=\"_blank\" href=https://colab.research.google.com/notebooks/data_table.ipynb>data table notebook</a>'\n",
              "            + ' to learn more about interactive tables.';\n",
              "          element.innerHTML = '';\n",
              "          dataTable['output_type'] = 'display_data';\n",
              "          await google.colab.output.renderOutput(dataTable, element);\n",
              "          const docLink = document.createElement('div');\n",
              "          docLink.innerHTML = docLinkHtml;\n",
              "          element.appendChild(docLink);\n",
              "        }\n",
              "      </script>\n",
              "    </div>\n",
              "  </div>\n",
              "  "
            ],
            "text/plain": [
              "                                                Text  Emotion\n",
              "0                            i didnt feel humiliated  sadness\n",
              "1  i can go from feeling so hopeless to so damned...  sadness\n",
              "2   im grabbing a minute to post i feel greedy wrong    anger\n",
              "3  i am ever feeling nostalgic about the fireplac...     love\n",
              "4                               i am feeling grouchy    anger"
            ]
          },
          "metadata": {},
          "execution_count": 6
        }
      ]
    },
    {
      "cell_type": "markdown",
      "source": [
        "* Jumlah emosi yang terdapat pada data adalah 6."
      ],
      "metadata": {
        "id": "GgnRoO_RGtul"
      }
    },
    {
      "cell_type": "code",
      "metadata": {
        "colab": {
          "base_uri": "https://localhost:8080/"
        },
        "id": "7P9H4hpOtX8W",
        "outputId": "d1715187-87fa-4542-f2b4-be31496d6c1c"
      },
      "source": [
        "df.Emotion.value_counts()"
      ],
      "execution_count": 8,
      "outputs": [
        {
          "output_type": "execute_result",
          "data": {
            "text/plain": [
              "happy       7029\n",
              "sadness     6265\n",
              "anger       2993\n",
              "fear        2652\n",
              "love        1641\n",
              "surprise     879\n",
              "Name: Emotion, dtype: int64"
            ]
          },
          "metadata": {},
          "execution_count": 8
        }
      ]
    },
    {
      "cell_type": "markdown",
      "source": [
        "* Dataset akan dipisah menjadi 2, train dan test. Train digunakan untuk data latih model LSTM dan test digunakan untuk mengukur akurasi klasifikasi oleh model.\n",
        "* Sebaran dari data train dan test adalah train=60%, test=40%"
      ],
      "metadata": {
        "id": "xuwba4ZeHEK6"
      }
    },
    {
      "cell_type": "code",
      "source": [
        "df_train, df_test = train_test_split(df, test_size=0.4)"
      ],
      "metadata": {
        "id": "ZlqlNvbyHl-G"
      },
      "execution_count": 14,
      "outputs": []
    },
    {
      "cell_type": "markdown",
      "source": [
        "* Dilakukan dummy encoding untuk memecah label `Emotion` sehingga memiliki nilai biner."
      ],
      "metadata": {
        "id": "GrEUkVrlIS0C"
      }
    },
    {
      "cell_type": "code",
      "metadata": {
        "colab": {
          "base_uri": "https://localhost:8080/",
          "height": 423
        },
        "id": "vBioDddpVsLQ",
        "outputId": "85ec1086-6b16-404d-a7ac-6dc39ec1e274"
      },
      "source": [
        "category = pd.get_dummies(df_train.Emotion)\n",
        "df_train_new = pd.concat([df_train, category], axis=1)\n",
        "df_train_new = df_train_new.drop(columns=['Emotion'])\n",
        "\n",
        "category = pd.get_dummies(df_test.Emotion)\n",
        "df_test_new = pd.concat([df_test, category], axis=1)\n",
        "df_test_new = df_test_new.drop(columns=['Emotion'])\n",
        "df_test_new"
      ],
      "execution_count": 16,
      "outputs": [
        {
          "output_type": "execute_result",
          "data": {
            "text/html": [
              "\n",
              "  <div id=\"df-e0ab1c2a-e283-4238-a120-010456701c55\">\n",
              "    <div class=\"colab-df-container\">\n",
              "      <div>\n",
              "<style scoped>\n",
              "    .dataframe tbody tr th:only-of-type {\n",
              "        vertical-align: middle;\n",
              "    }\n",
              "\n",
              "    .dataframe tbody tr th {\n",
              "        vertical-align: top;\n",
              "    }\n",
              "\n",
              "    .dataframe thead th {\n",
              "        text-align: right;\n",
              "    }\n",
              "</style>\n",
              "<table border=\"1\" class=\"dataframe\">\n",
              "  <thead>\n",
              "    <tr style=\"text-align: right;\">\n",
              "      <th></th>\n",
              "      <th>Text</th>\n",
              "      <th>anger</th>\n",
              "      <th>fear</th>\n",
              "      <th>happy</th>\n",
              "      <th>love</th>\n",
              "      <th>sadness</th>\n",
              "      <th>surprise</th>\n",
              "    </tr>\n",
              "  </thead>\n",
              "  <tbody>\n",
              "    <tr>\n",
              "      <th>11533</th>\n",
              "      <td>i could feel that the person was pissed at me ...</td>\n",
              "      <td>1</td>\n",
              "      <td>0</td>\n",
              "      <td>0</td>\n",
              "      <td>0</td>\n",
              "      <td>0</td>\n",
              "      <td>0</td>\n",
              "    </tr>\n",
              "    <tr>\n",
              "      <th>616</th>\n",
              "      <td>i feel like it would be too clever and get int...</td>\n",
              "      <td>0</td>\n",
              "      <td>0</td>\n",
              "      <td>1</td>\n",
              "      <td>0</td>\n",
              "      <td>0</td>\n",
              "      <td>0</td>\n",
              "    </tr>\n",
              "    <tr>\n",
              "      <th>19089</th>\n",
              "      <td>i could think was i wonder how many days i hav...</td>\n",
              "      <td>0</td>\n",
              "      <td>0</td>\n",
              "      <td>0</td>\n",
              "      <td>0</td>\n",
              "      <td>1</td>\n",
              "      <td>0</td>\n",
              "    </tr>\n",
              "    <tr>\n",
              "      <th>14186</th>\n",
              "      <td>i know how that feels hermione said in a surpr...</td>\n",
              "      <td>0</td>\n",
              "      <td>0</td>\n",
              "      <td>0</td>\n",
              "      <td>1</td>\n",
              "      <td>0</td>\n",
              "      <td>0</td>\n",
              "    </tr>\n",
              "    <tr>\n",
              "      <th>4089</th>\n",
              "      <td>i feeling so miserable when actually my mum sh...</td>\n",
              "      <td>0</td>\n",
              "      <td>0</td>\n",
              "      <td>0</td>\n",
              "      <td>0</td>\n",
              "      <td>1</td>\n",
              "      <td>0</td>\n",
              "    </tr>\n",
              "    <tr>\n",
              "      <th>...</th>\n",
              "      <td>...</td>\n",
              "      <td>...</td>\n",
              "      <td>...</td>\n",
              "      <td>...</td>\n",
              "      <td>...</td>\n",
              "      <td>...</td>\n",
              "      <td>...</td>\n",
              "    </tr>\n",
              "    <tr>\n",
              "      <th>17383</th>\n",
              "      <td>this monday i took a math bs test and flunked ...</td>\n",
              "      <td>0</td>\n",
              "      <td>0</td>\n",
              "      <td>0</td>\n",
              "      <td>0</td>\n",
              "      <td>1</td>\n",
              "      <td>0</td>\n",
              "    </tr>\n",
              "    <tr>\n",
              "      <th>603</th>\n",
              "      <td>i cant believe the moment where i feel the mos...</td>\n",
              "      <td>0</td>\n",
              "      <td>0</td>\n",
              "      <td>1</td>\n",
              "      <td>0</td>\n",
              "      <td>0</td>\n",
              "      <td>0</td>\n",
              "    </tr>\n",
              "    <tr>\n",
              "      <th>14715</th>\n",
              "      <td>i reckon this is fair enough yes the queen is ...</td>\n",
              "      <td>0</td>\n",
              "      <td>0</td>\n",
              "      <td>0</td>\n",
              "      <td>1</td>\n",
              "      <td>0</td>\n",
              "      <td>0</td>\n",
              "    </tr>\n",
              "    <tr>\n",
              "      <th>5878</th>\n",
              "      <td>i do give up at times when i feel there s no p...</td>\n",
              "      <td>1</td>\n",
              "      <td>0</td>\n",
              "      <td>0</td>\n",
              "      <td>0</td>\n",
              "      <td>0</td>\n",
              "      <td>0</td>\n",
              "    </tr>\n",
              "    <tr>\n",
              "      <th>3506</th>\n",
              "      <td>ive been feeling much more confident</td>\n",
              "      <td>0</td>\n",
              "      <td>0</td>\n",
              "      <td>1</td>\n",
              "      <td>0</td>\n",
              "      <td>0</td>\n",
              "      <td>0</td>\n",
              "    </tr>\n",
              "  </tbody>\n",
              "</table>\n",
              "<p>8584 rows × 7 columns</p>\n",
              "</div>\n",
              "      <button class=\"colab-df-convert\" onclick=\"convertToInteractive('df-e0ab1c2a-e283-4238-a120-010456701c55')\"\n",
              "              title=\"Convert this dataframe to an interactive table.\"\n",
              "              style=\"display:none;\">\n",
              "        \n",
              "  <svg xmlns=\"http://www.w3.org/2000/svg\" height=\"24px\"viewBox=\"0 0 24 24\"\n",
              "       width=\"24px\">\n",
              "    <path d=\"M0 0h24v24H0V0z\" fill=\"none\"/>\n",
              "    <path d=\"M18.56 5.44l.94 2.06.94-2.06 2.06-.94-2.06-.94-.94-2.06-.94 2.06-2.06.94zm-11 1L8.5 8.5l.94-2.06 2.06-.94-2.06-.94L8.5 2.5l-.94 2.06-2.06.94zm10 10l.94 2.06.94-2.06 2.06-.94-2.06-.94-.94-2.06-.94 2.06-2.06.94z\"/><path d=\"M17.41 7.96l-1.37-1.37c-.4-.4-.92-.59-1.43-.59-.52 0-1.04.2-1.43.59L10.3 9.45l-7.72 7.72c-.78.78-.78 2.05 0 2.83L4 21.41c.39.39.9.59 1.41.59.51 0 1.02-.2 1.41-.59l7.78-7.78 2.81-2.81c.8-.78.8-2.07 0-2.86zM5.41 20L4 18.59l7.72-7.72 1.47 1.35L5.41 20z\"/>\n",
              "  </svg>\n",
              "      </button>\n",
              "      \n",
              "  <style>\n",
              "    .colab-df-container {\n",
              "      display:flex;\n",
              "      flex-wrap:wrap;\n",
              "      gap: 12px;\n",
              "    }\n",
              "\n",
              "    .colab-df-convert {\n",
              "      background-color: #E8F0FE;\n",
              "      border: none;\n",
              "      border-radius: 50%;\n",
              "      cursor: pointer;\n",
              "      display: none;\n",
              "      fill: #1967D2;\n",
              "      height: 32px;\n",
              "      padding: 0 0 0 0;\n",
              "      width: 32px;\n",
              "    }\n",
              "\n",
              "    .colab-df-convert:hover {\n",
              "      background-color: #E2EBFA;\n",
              "      box-shadow: 0px 1px 2px rgba(60, 64, 67, 0.3), 0px 1px 3px 1px rgba(60, 64, 67, 0.15);\n",
              "      fill: #174EA6;\n",
              "    }\n",
              "\n",
              "    [theme=dark] .colab-df-convert {\n",
              "      background-color: #3B4455;\n",
              "      fill: #D2E3FC;\n",
              "    }\n",
              "\n",
              "    [theme=dark] .colab-df-convert:hover {\n",
              "      background-color: #434B5C;\n",
              "      box-shadow: 0px 1px 3px 1px rgba(0, 0, 0, 0.15);\n",
              "      filter: drop-shadow(0px 1px 2px rgba(0, 0, 0, 0.3));\n",
              "      fill: #FFFFFF;\n",
              "    }\n",
              "  </style>\n",
              "\n",
              "      <script>\n",
              "        const buttonEl =\n",
              "          document.querySelector('#df-e0ab1c2a-e283-4238-a120-010456701c55 button.colab-df-convert');\n",
              "        buttonEl.style.display =\n",
              "          google.colab.kernel.accessAllowed ? 'block' : 'none';\n",
              "\n",
              "        async function convertToInteractive(key) {\n",
              "          const element = document.querySelector('#df-e0ab1c2a-e283-4238-a120-010456701c55');\n",
              "          const dataTable =\n",
              "            await google.colab.kernel.invokeFunction('convertToInteractive',\n",
              "                                                     [key], {});\n",
              "          if (!dataTable) return;\n",
              "\n",
              "          const docLinkHtml = 'Like what you see? Visit the ' +\n",
              "            '<a target=\"_blank\" href=https://colab.research.google.com/notebooks/data_table.ipynb>data table notebook</a>'\n",
              "            + ' to learn more about interactive tables.';\n",
              "          element.innerHTML = '';\n",
              "          dataTable['output_type'] = 'display_data';\n",
              "          await google.colab.output.renderOutput(dataTable, element);\n",
              "          const docLink = document.createElement('div');\n",
              "          docLink.innerHTML = docLinkHtml;\n",
              "          element.appendChild(docLink);\n",
              "        }\n",
              "      </script>\n",
              "    </div>\n",
              "  </div>\n",
              "  "
            ],
            "text/plain": [
              "                                                    Text  ...  surprise\n",
              "11533  i could feel that the person was pissed at me ...  ...         0\n",
              "616    i feel like it would be too clever and get int...  ...         0\n",
              "19089  i could think was i wonder how many days i hav...  ...         0\n",
              "14186  i know how that feels hermione said in a surpr...  ...         0\n",
              "4089   i feeling so miserable when actually my mum sh...  ...         0\n",
              "...                                                  ...  ...       ...\n",
              "17383  this monday i took a math bs test and flunked ...  ...         0\n",
              "603    i cant believe the moment where i feel the mos...  ...         0\n",
              "14715  i reckon this is fair enough yes the queen is ...  ...         0\n",
              "5878   i do give up at times when i feel there s no p...  ...         0\n",
              "3506                ive been feeling much more confident  ...         0\n",
              "\n",
              "[8584 rows x 7 columns]"
            ]
          },
          "metadata": {},
          "execution_count": 16
        }
      ]
    },
    {
      "cell_type": "markdown",
      "source": [
        "### Tokenization\n",
        "\n",
        "Data teks akan dialkukan tokenisasi sehingga data tersebut dapat dimasukkan sebagai input model LSTM."
      ],
      "metadata": {
        "id": "ynyaCRkKJ7Tx"
      }
    },
    {
      "cell_type": "code",
      "metadata": {
        "id": "5O6R0brXTGTf"
      },
      "source": [
        "# Data teks\n",
        "text_train = df_train_new['Text'].values\n",
        "text_test = df_test_new['Text'].values\n",
        "# Label data\n",
        "label_train = df_train_new[['anger', 'fear', 'happy', 'love', 'sadness', 'surprise']].values\n",
        "label_test = df_test_new[['anger', 'fear', 'happy', 'love', 'sadness', 'surprise']].values"
      ],
      "execution_count": 21,
      "outputs": []
    },
    {
      "cell_type": "code",
      "source": [
        "# Tokenisasi \n",
        "tokenizer = Tokenizer(num_words=2000, oov_token='x')\n",
        "tokenizer.fit_on_texts(text_train) \n",
        "tokenizer.fit_on_texts(text_test)\n",
        "# Texts to sequence\n",
        "sekuens_train = tokenizer.texts_to_sequences(text_train)\n",
        "sekuens_test = tokenizer.texts_to_sequences(text_test)\n",
        "# Padding untuk input model LSTM\n",
        "padded_train = pad_sequences(sekuens_train) \n",
        "padded_test = pad_sequences(sekuens_test)"
      ],
      "metadata": {
        "id": "dXcpEnh5KcjF"
      },
      "execution_count": 23,
      "outputs": []
    },
    {
      "cell_type": "markdown",
      "source": [
        "### LSTM Model\n",
        "Membuat model LSTM dengan 1 input layer, 1 LSTM layer, dan 1 dense layer. \n",
        "\n",
        "* Fungsi aktivasi = `softmax `\n",
        "* Fungsi loss = `categorial crossentropy`\n",
        "* Optimizer = `adam`\n",
        "* Metric = `accuracy`\n",
        "\n",
        "Model akan dilatih hingga epoch = 15"
      ],
      "metadata": {
        "id": "0U2rvUKMKX9p"
      }
    },
    {
      "cell_type": "code",
      "metadata": {
        "id": "TTDMXfzJTI8n"
      },
      "source": [
        "model = tf.keras.Sequential([\n",
        "    tf.keras.layers.Embedding(input_dim=2000, output_dim=16),\n",
        "    tf.keras.layers.LSTM(64),\n",
        "    tf.keras.layers.Dense(6, activation='softmax')\n",
        "])\n",
        "model.compile(loss='categorical_crossentropy',optimizer='adam',metrics=['accuracy'])"
      ],
      "execution_count": 27,
      "outputs": []
    },
    {
      "cell_type": "markdown",
      "source": [
        "* Fungsi callback digunakan jika akurasi melebihi 99%. Jika akurasi melebihi batas tersebut, proses training akan berhenti."
      ],
      "metadata": {
        "id": "dLHzJkYlNHQW"
      }
    },
    {
      "cell_type": "code",
      "source": [
        "class myCallback(tf.keras.callbacks.Callback):\n",
        "  def on_epoch_end(self, epoch, logs={}):\n",
        "    if(logs.get('val_accuracy')>0.99):\n",
        "      print(\"\\nAccuracy = \",logs.get('val_accuracy') )\n",
        "      self.model.stop_training = True\n",
        "callbacks = myCallback()"
      ],
      "metadata": {
        "id": "0lRvBT8TNG0W"
      },
      "execution_count": 31,
      "outputs": []
    },
    {
      "cell_type": "code",
      "metadata": {
        "colab": {
          "base_uri": "https://localhost:8080/"
        },
        "id": "wYgpB_tFbEkp",
        "outputId": "5dc118fe-4d2e-4835-dc7e-eb4cab3e9800"
      },
      "source": [
        "train = model.fit(padded_train, label_train, epochs=15, batch_size=16,\n",
        "                    validation_data=(padded_test, label_test), verbose=2, callbacks=[callbacks])"
      ],
      "execution_count": 32,
      "outputs": [
        {
          "output_type": "stream",
          "name": "stdout",
          "text": [
            "Epoch 1/15\n",
            "805/805 - 33s - loss: 1.3839 - accuracy: 0.4580 - val_loss: 0.9857 - val_accuracy: 0.6253 - 33s/epoch - 41ms/step\n",
            "Epoch 2/15\n",
            "805/805 - 29s - loss: 0.5856 - accuracy: 0.8014 - val_loss: 0.4480 - val_accuracy: 0.8480 - 29s/epoch - 36ms/step\n",
            "Epoch 3/15\n",
            "805/805 - 29s - loss: 0.2973 - accuracy: 0.9003 - val_loss: 0.3300 - val_accuracy: 0.8832 - 29s/epoch - 36ms/step\n",
            "Epoch 4/15\n",
            "805/805 - 28s - loss: 0.2240 - accuracy: 0.9209 - val_loss: 0.3204 - val_accuracy: 0.8889 - 28s/epoch - 34ms/step\n",
            "Epoch 5/15\n",
            "805/805 - 28s - loss: 0.1745 - accuracy: 0.9372 - val_loss: 0.3229 - val_accuracy: 0.8873 - 28s/epoch - 35ms/step\n",
            "Epoch 6/15\n",
            "805/805 - 28s - loss: 0.1598 - accuracy: 0.9441 - val_loss: 0.3147 - val_accuracy: 0.8871 - 28s/epoch - 35ms/step\n",
            "Epoch 7/15\n",
            "805/805 - 28s - loss: 0.1376 - accuracy: 0.9494 - val_loss: 0.3433 - val_accuracy: 0.8835 - 28s/epoch - 35ms/step\n",
            "Epoch 8/15\n",
            "805/805 - 28s - loss: 0.1263 - accuracy: 0.9556 - val_loss: 0.3533 - val_accuracy: 0.8844 - 28s/epoch - 35ms/step\n",
            "Epoch 9/15\n",
            "805/805 - 30s - loss: 0.1198 - accuracy: 0.9576 - val_loss: 0.3648 - val_accuracy: 0.8819 - 30s/epoch - 38ms/step\n",
            "Epoch 10/15\n",
            "805/805 - 32s - loss: 0.1074 - accuracy: 0.9617 - val_loss: 0.3707 - val_accuracy: 0.8834 - 32s/epoch - 39ms/step\n",
            "Epoch 11/15\n",
            "805/805 - 31s - loss: 0.0976 - accuracy: 0.9646 - val_loss: 0.4084 - val_accuracy: 0.8835 - 31s/epoch - 39ms/step\n",
            "Epoch 12/15\n",
            "805/805 - 31s - loss: 0.0917 - accuracy: 0.9672 - val_loss: 0.3961 - val_accuracy: 0.8880 - 31s/epoch - 39ms/step\n",
            "Epoch 13/15\n",
            "805/805 - 31s - loss: 0.0817 - accuracy: 0.9710 - val_loss: 0.3851 - val_accuracy: 0.8830 - 31s/epoch - 39ms/step\n",
            "Epoch 14/15\n",
            "805/805 - 32s - loss: 0.0778 - accuracy: 0.9730 - val_loss: 0.4116 - val_accuracy: 0.8844 - 32s/epoch - 40ms/step\n",
            "Epoch 15/15\n",
            "805/805 - 31s - loss: 0.0698 - accuracy: 0.9751 - val_loss: 0.4480 - val_accuracy: 0.8842 - 31s/epoch - 39ms/step\n"
          ]
        }
      ]
    },
    {
      "cell_type": "markdown",
      "source": [
        "#### Diperoleh akurasi = 97%"
      ],
      "metadata": {
        "id": "NKL7gMINaIUg"
      }
    },
    {
      "cell_type": "markdown",
      "source": [
        "### Test with New Text"
      ],
      "metadata": {
        "id": "92O_lX_9Ovn9"
      }
    },
    {
      "cell_type": "code",
      "source": [
        "# Input custom text\n",
        "sample_text = ('The movie was cool. The animation and the graphics were out of this world. I would recommend this movie.')"
      ],
      "metadata": {
        "id": "gcTLl709XcrL"
      },
      "execution_count": 49,
      "outputs": []
    },
    {
      "cell_type": "code",
      "metadata": {
        "id": "N_Ieid0PbE9B"
      },
      "source": [
        "# Tokenisasi\n",
        "tokenizer = Tokenizer(num_words=2000, oov_token='x')\n",
        "tokenizer.fit_on_texts(sample_text) \n",
        "# Texts to sequence\n",
        "sekuens_sample = tokenizer.texts_to_sequences(sample_text)\n",
        "# Padding untuk input model LSTM\n",
        "padded_sample = pad_sequences(sekuens_sample) \n",
        "\n",
        "predictions = model.predict(np.array([padded_sample]))\n",
        "result_anger = '{:.2%}'.format(predictions[0][0])\n",
        "result_fear = '{:.2%}'.format(predictions[0][1])\n",
        "result_happy = '{:.2%}'.format(predictions[0][2])\n",
        "result_love = '{:.2%}'.format(predictions[0][3])\n",
        "result_sadness = '{:.2%}'.format(predictions[0][4])\n",
        "result_surprise = '{:.2%}'.format(predictions[0][5])\n",
        "result = ('| Anger = ' + result_anger + ' | Fear = ' + result_fear + ' | Happy = ' + result_happy\n",
        "+ ' | Love = ' + result_love + ' | Sadness = ' + result_sadness + ' | Surprise = ' + result_surprise+' |')"
      ],
      "execution_count": 74,
      "outputs": []
    },
    {
      "cell_type": "code",
      "source": [
        "result"
      ],
      "metadata": {
        "colab": {
          "base_uri": "https://localhost:8080/",
          "height": 35
        },
        "id": "zSeDtMETYUDG",
        "outputId": "ea7b13b3-7822-44a5-ffe8-f878a9952b57"
      },
      "execution_count": 75,
      "outputs": [
        {
          "output_type": "execute_result",
          "data": {
            "application/vnd.google.colaboratory.intrinsic+json": {
              "type": "string"
            },
            "text/plain": [
              "'| Anger = 5.62% | Fear = 1.06% | Happy = 84.31% | Love = 4.76% | Sadness = 2.85% | Surprise = 1.40% |'"
            ]
          },
          "metadata": {},
          "execution_count": 75
        }
      ]
    },
    {
      "cell_type": "markdown",
      "source": [
        "### Conclusion\n",
        "Pada teks sample, emosi yang diprediksi sesuai dengan yang seharusnya. Akurasi yang didapatkan oleh model LSTM adalah 97% dengan epoch = 15."
      ],
      "metadata": {
        "id": "A7u3vnWwYh6F"
      }
    }
  ]
}